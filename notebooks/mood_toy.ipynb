{
 "cells": [
  {
   "cell_type": "code",
   "execution_count": null,
   "metadata": {},
   "outputs": [],
   "source": []
  },
  {
   "attachments": {},
   "cell_type": "markdown",
   "metadata": {},
   "source": [
    "# Mood Toy\n",
    "Starting point for our mood analyses. <br>\n",
    "Following a Bayesian workflow, we first simulate the hypothesized generative model. We then infer the known parameters. <br>\n",
    "<!-- First load Stan code is precompiled using code in the stan subdirectory. <br>\n",
    "We use command Stan since that seems to be the most stable and fastest. <br>\n",
    "Command Stan uses JSON files and so data is generated and then written to JSON, then reloaded for inference, etc.  -->"
   ]
  },
  {
   "attachments": {},
   "cell_type": "markdown",
   "metadata": {},
   "source": [
    "## Generative model"
   ]
  },
  {
   "attachments": {},
   "cell_type": "markdown",
   "metadata": {},
   "source": [
    "Our typical data uses a Likert-scale where individuals respond using discrete, ordered choices.<br> \n",
    "For example, a five-point Likert scale consists of responses in  {1:Strongly disagree, 2:Disagree, 3:Neither agree nor disagree, 4:Agree, 5:Strongly agree}.<br>\n",
    "Quantitative analysis consists of treating these responses as an ordinal variable; discrete, monotonically increasing values. <br>\n",
    "Some quantitative treatments assume equal intervals between choices.<br>\n",
    "However, here we keep it ordinal as in there is some monotonic, rank-order relationship but unknown interval.  \n",
    "\n"
   ]
  },
  {
   "attachments": {},
   "cell_type": "markdown",
   "metadata": {},
   "source": [
    "### Continuous latent variable model\n",
    "\n",
    "When performing computations on such ordinal variables, it is common to transform the data to a latent continuous variable.<br>\n",
    "This is done by fitting a Gaussian to samples of the ordinal data. Thus, it is assumed that one has repeat samples, i.i.d. Likert items, from a stationary distribution.   "
   ]
  },
  {
   "cell_type": "code",
   "execution_count": null,
   "metadata": {},
   "outputs": [],
   "source": []
  }
 ],
 "metadata": {
  "kernelspec": {
   "display_name": "Python 3",
   "language": "python",
   "name": "python3"
  },
  "language_info": {
   "name": "python",
   "version": "3.8.2 (default, Feb 25 2021, 09:38:33) \n[Clang 12.0.5 (clang-1205.0.22.6)]"
  },
  "orig_nbformat": 4,
  "vscode": {
   "interpreter": {
    "hash": "31f2aee4e71d21fbe5cf8b01ff0e069b9275f58929596ceb00d14d90e3e16cd6"
   }
  }
 },
 "nbformat": 4,
 "nbformat_minor": 2
}
